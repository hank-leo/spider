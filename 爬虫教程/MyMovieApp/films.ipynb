{
 "cells": [
  {
   "cell_type": "code",
   "execution_count": 1,
   "metadata": {},
   "outputs": [],
   "source": [
    "import pandas as pd\n",
    "data= pd.read_excel('movies.xlsx',names=['名称','数量','评分','短评'])"
   ]
  },
  {
   "cell_type": "code",
   "execution_count": 4,
   "metadata": {
    "scrolled": true
   },
   "outputs": [
    {
     "data": {
      "text/html": [
       "<div>\n",
       "<style scoped>\n",
       "    .dataframe tbody tr th:only-of-type {\n",
       "        vertical-align: middle;\n",
       "    }\n",
       "\n",
       "    .dataframe tbody tr th {\n",
       "        vertical-align: top;\n",
       "    }\n",
       "\n",
       "    .dataframe thead th {\n",
       "        text-align: right;\n",
       "    }\n",
       "</style>\n",
       "<table border=\"1\" class=\"dataframe\">\n",
       "  <thead>\n",
       "    <tr style=\"text-align: right;\">\n",
       "      <th></th>\n",
       "      <th>名称</th>\n",
       "      <th>数量</th>\n",
       "      <th>评分</th>\n",
       "      <th>短评</th>\n",
       "    </tr>\n",
       "  </thead>\n",
       "  <tbody>\n",
       "    <tr>\n",
       "      <th>0</th>\n",
       "      <td>霸王别姬</td>\n",
       "      <td>1006313</td>\n",
       "      <td>9.6</td>\n",
       "      <td>风华绝代。</td>\n",
       "    </tr>\n",
       "    <tr>\n",
       "      <th>1</th>\n",
       "      <td>这个杀手不太冷</td>\n",
       "      <td>1244984</td>\n",
       "      <td>9.4</td>\n",
       "      <td>怪蜀黍和小萝莉不得不说的故事。</td>\n",
       "    </tr>\n",
       "    <tr>\n",
       "      <th>2</th>\n",
       "      <td>阿甘正传</td>\n",
       "      <td>1072395</td>\n",
       "      <td>9.4</td>\n",
       "      <td>一部美国近现代史。</td>\n",
       "    </tr>\n",
       "    <tr>\n",
       "      <th>3</th>\n",
       "      <td>美丽人生</td>\n",
       "      <td>627468</td>\n",
       "      <td>9.5</td>\n",
       "      <td>最美的谎言。</td>\n",
       "    </tr>\n",
       "    <tr>\n",
       "      <th>4</th>\n",
       "      <td>泰坦尼克号</td>\n",
       "      <td>1012652</td>\n",
       "      <td>9.3</td>\n",
       "      <td>失去的才是永恒的。</td>\n",
       "    </tr>\n",
       "  </tbody>\n",
       "</table>\n",
       "</div>"
      ],
      "text/plain": [
       "        名称       数量   评分               短评\n",
       "0     霸王别姬  1006313  9.6            风华绝代。\n",
       "1  这个杀手不太冷  1244984  9.4  怪蜀黍和小萝莉不得不说的故事。\n",
       "2     阿甘正传  1072395  9.4        一部美国近现代史。\n",
       "3     美丽人生   627468  9.5           最美的谎言。\n",
       "4    泰坦尼克号  1012652  9.3        失去的才是永恒的。"
      ]
     },
     "execution_count": 4,
     "metadata": {},
     "output_type": "execute_result"
    }
   ],
   "source": [
    "# type(data)\n",
    "data.head()"
   ]
  },
  {
   "cell_type": "code",
   "execution_count": 5,
   "metadata": {},
   "outputs": [
    {
     "data": {
      "text/plain": [
       "Index(['名称', '数量', '评分', '短评'], dtype='object')"
      ]
     },
     "execution_count": 5,
     "metadata": {},
     "output_type": "execute_result"
    }
   ],
   "source": [
    "data.columns"
   ]
  },
  {
   "cell_type": "code",
   "execution_count": 7,
   "metadata": {},
   "outputs": [
    {
     "data": {
      "text/plain": [
       "0              霸王别姬\n",
       "1           这个杀手不太冷\n",
       "2              阿甘正传\n",
       "3              美丽人生\n",
       "4             泰坦尼克号\n",
       "5              千与千寻\n",
       "6            辛德勒的名单\n",
       "7              盗梦空间\n",
       "8           忠犬八公的故事\n",
       "9            机器人总动员\n",
       "10          三傻大闹宝莱坞\n",
       "11            海上钢琴师\n",
       "12           放牛班的春天\n",
       "13            楚门的世界\n",
       "14        大话西游之大圣娶亲\n",
       "15             星际穿越\n",
       "16               龙猫\n",
       "17               教父\n",
       "18               熔炉\n",
       "19              无间道\n",
       "20            疯狂动物城\n",
       "21           当幸福来敲门\n",
       "22             怦然心动\n",
       "23             触不可及\n",
       "24             乱世佳人\n",
       "25         蝙蝠侠：黑暗骑士\n",
       "26               活着\n",
       "27         少年派的奇幻漂流\n",
       "28            天堂电影院\n",
       "29             控方证人\n",
       "           ...     \n",
       "219           海蒂和爷爷\n",
       "220         彗星来的那一夜\n",
       "221        这个男人来自地球\n",
       "222        E.T. 外星人\n",
       "223            末路狂花\n",
       "224              血钻\n",
       "225           勇闯夺命岛\n",
       "226              聚焦\n",
       "227        2001太空漫游\n",
       "228              变脸\n",
       "229             发条橙\n",
       "230           秒速5厘米\n",
       "231           黄金三镖客\n",
       "232            黑鹰坠落\n",
       "233           卡萨布兰卡\n",
       "234           非常嫌疑犯\n",
       "235           国王的演讲\n",
       "236             我爱你\n",
       "237            千钧一发\n",
       "238            美国丽人\n",
       "239            遗愿清单\n",
       "240            碧海蓝天\n",
       "241              功夫\n",
       "242    疯狂的麦克斯4：狂暴之路\n",
       "243            荒岛余生\n",
       "244            英国病人\n",
       "245            荒野生存\n",
       "246            海盗电台\n",
       "247              枪火\n",
       "248             驴得水\n",
       "Name: 名称, Length: 249, dtype: object"
      ]
     },
     "execution_count": 7,
     "metadata": {},
     "output_type": "execute_result"
    }
   ],
   "source": [
    "# type(data['名称'])\n",
    "data['名称']"
   ]
  },
  {
   "cell_type": "code",
   "execution_count": 7,
   "metadata": {},
   "outputs": [
    {
     "data": {
      "text/plain": [
       "pandas.core.frame.DataFrame"
      ]
     },
     "execution_count": 7,
     "metadata": {},
     "output_type": "execute_result"
    }
   ],
   "source": [
    "type(data)"
   ]
  },
  {
   "cell_type": "code",
   "execution_count": 8,
   "metadata": {},
   "outputs": [
    {
     "data": {
      "text/plain": [
       "array([9.6, 9.4, 9.5, 9.3, 9.2, 9.1, 9. , 8.9, 8.8, 8.7, 8.6, 8.5, 8.4,\n",
       "       8.3])"
      ]
     },
     "execution_count": 8,
     "metadata": {},
     "output_type": "execute_result"
    }
   ],
   "source": [
    "data['评分'].unique()"
   ]
  },
  {
   "cell_type": "code",
   "execution_count": 9,
   "metadata": {},
   "outputs": [
    {
     "data": {
      "text/plain": [
       "8.7    49\n",
       "8.8    37\n",
       "8.6    28\n",
       "8.5    26\n",
       "8.9    23\n",
       "9.0    22\n",
       "9.2    19\n",
       "9.1    18\n",
       "9.3    10\n",
       "8.4     5\n",
       "8.3     5\n",
       "9.4     3\n",
       "9.6     2\n",
       "9.5     2\n",
       "Name: 评分, dtype: int64"
      ]
     },
     "execution_count": 9,
     "metadata": {},
     "output_type": "execute_result"
    }
   ],
   "source": [
    "data['评分'].value_counts()"
   ]
  },
  {
   "cell_type": "code",
   "execution_count": 10,
   "metadata": {},
   "outputs": [
    {
     "data": {
      "text/plain": [
       "名称    249\n",
       "数量    249\n",
       "评分    249\n",
       "短评    249\n",
       "dtype: int64"
      ]
     },
     "execution_count": 10,
     "metadata": {},
     "output_type": "execute_result"
    }
   ],
   "source": [
    "data.count()"
   ]
  },
  {
   "cell_type": "code",
   "execution_count": 11,
   "metadata": {},
   "outputs": [
    {
     "data": {
      "text/plain": [
       "0     9.6\n",
       "29    9.6\n",
       "3     9.5\n",
       "6     9.5\n",
       "1     9.4\n",
       "Name: 评分, dtype: float64"
      ]
     },
     "execution_count": 11,
     "metadata": {},
     "output_type": "execute_result"
    }
   ],
   "source": [
    "data['评分'].sort_values(ascending=False).head()"
   ]
  },
  {
   "cell_type": "code",
   "execution_count": 10,
   "metadata": {},
   "outputs": [],
   "source": [
    "mydata= data.sort_values('评分',ascending=False)"
   ]
  },
  {
   "cell_type": "code",
   "execution_count": 11,
   "metadata": {},
   "outputs": [
    {
     "data": {
      "text/html": [
       "<div>\n",
       "<style scoped>\n",
       "    .dataframe tbody tr th:only-of-type {\n",
       "        vertical-align: middle;\n",
       "    }\n",
       "\n",
       "    .dataframe tbody tr th {\n",
       "        vertical-align: top;\n",
       "    }\n",
       "\n",
       "    .dataframe thead th {\n",
       "        text-align: right;\n",
       "    }\n",
       "</style>\n",
       "<table border=\"1\" class=\"dataframe\">\n",
       "  <thead>\n",
       "    <tr style=\"text-align: right;\">\n",
       "      <th></th>\n",
       "      <th>名称</th>\n",
       "      <th>数量</th>\n",
       "      <th>评分</th>\n",
       "      <th>短评</th>\n",
       "    </tr>\n",
       "  </thead>\n",
       "  <tbody>\n",
       "    <tr>\n",
       "      <th>0</th>\n",
       "      <td>霸王别姬</td>\n",
       "      <td>1006313</td>\n",
       "      <td>9.6</td>\n",
       "      <td>风华绝代。</td>\n",
       "    </tr>\n",
       "    <tr>\n",
       "      <th>29</th>\n",
       "      <td>控方证人</td>\n",
       "      <td>169457</td>\n",
       "      <td>9.6</td>\n",
       "      <td>比利·怀德满分作品。</td>\n",
       "    </tr>\n",
       "    <tr>\n",
       "      <th>3</th>\n",
       "      <td>美丽人生</td>\n",
       "      <td>627468</td>\n",
       "      <td>9.5</td>\n",
       "      <td>最美的谎言。</td>\n",
       "    </tr>\n",
       "    <tr>\n",
       "      <th>6</th>\n",
       "      <td>辛德勒的名单</td>\n",
       "      <td>559470</td>\n",
       "      <td>9.5</td>\n",
       "      <td>拯救一个人，就是拯救整个世界。</td>\n",
       "    </tr>\n",
       "    <tr>\n",
       "      <th>2</th>\n",
       "      <td>阿甘正传</td>\n",
       "      <td>1072395</td>\n",
       "      <td>9.4</td>\n",
       "      <td>一部美国近现代史。</td>\n",
       "    </tr>\n",
       "  </tbody>\n",
       "</table>\n",
       "</div>"
      ],
      "text/plain": [
       "        名称       数量   评分               短评\n",
       "0     霸王别姬  1006313  9.6            风华绝代。\n",
       "29    控方证人   169457  9.6       比利·怀德满分作品。\n",
       "3     美丽人生   627468  9.5           最美的谎言。\n",
       "6   辛德勒的名单   559470  9.5  拯救一个人，就是拯救整个世界。\n",
       "2     阿甘正传  1072395  9.4        一部美国近现代史。"
      ]
     },
     "execution_count": 11,
     "metadata": {},
     "output_type": "execute_result"
    }
   ],
   "source": [
    "mydata[:5]"
   ]
  },
  {
   "cell_type": "code",
   "execution_count": 12,
   "metadata": {},
   "outputs": [],
   "source": [
    "mydata = mydata[mydata['评分']>=9.0]"
   ]
  },
  {
   "cell_type": "code",
   "execution_count": 13,
   "metadata": {},
   "outputs": [
    {
     "data": {
      "text/html": [
       "<div>\n",
       "<style scoped>\n",
       "    .dataframe tbody tr th:only-of-type {\n",
       "        vertical-align: middle;\n",
       "    }\n",
       "\n",
       "    .dataframe tbody tr th {\n",
       "        vertical-align: top;\n",
       "    }\n",
       "\n",
       "    .dataframe thead th {\n",
       "        text-align: right;\n",
       "    }\n",
       "</style>\n",
       "<table border=\"1\" class=\"dataframe\">\n",
       "  <thead>\n",
       "    <tr style=\"text-align: right;\">\n",
       "      <th></th>\n",
       "      <th>名称</th>\n",
       "      <th>数量</th>\n",
       "      <th>评分</th>\n",
       "      <th>短评</th>\n",
       "    </tr>\n",
       "  </thead>\n",
       "  <tbody>\n",
       "    <tr>\n",
       "      <th>0</th>\n",
       "      <td>霸王别姬</td>\n",
       "      <td>1006313</td>\n",
       "      <td>9.6</td>\n",
       "      <td>风华绝代。</td>\n",
       "    </tr>\n",
       "    <tr>\n",
       "      <th>29</th>\n",
       "      <td>控方证人</td>\n",
       "      <td>169457</td>\n",
       "      <td>9.6</td>\n",
       "      <td>比利·怀德满分作品。</td>\n",
       "    </tr>\n",
       "    <tr>\n",
       "      <th>3</th>\n",
       "      <td>美丽人生</td>\n",
       "      <td>627468</td>\n",
       "      <td>9.5</td>\n",
       "      <td>最美的谎言。</td>\n",
       "    </tr>\n",
       "    <tr>\n",
       "      <th>6</th>\n",
       "      <td>辛德勒的名单</td>\n",
       "      <td>559470</td>\n",
       "      <td>9.5</td>\n",
       "      <td>拯救一个人，就是拯救整个世界。</td>\n",
       "    </tr>\n",
       "    <tr>\n",
       "      <th>2</th>\n",
       "      <td>阿甘正传</td>\n",
       "      <td>1072395</td>\n",
       "      <td>9.4</td>\n",
       "      <td>一部美国近现代史。</td>\n",
       "    </tr>\n",
       "  </tbody>\n",
       "</table>\n",
       "</div>"
      ],
      "text/plain": [
       "        名称       数量   评分               短评\n",
       "0     霸王别姬  1006313  9.6            风华绝代。\n",
       "29    控方证人   169457  9.6       比利·怀德满分作品。\n",
       "3     美丽人生   627468  9.5           最美的谎言。\n",
       "6   辛德勒的名单   559470  9.5  拯救一个人，就是拯救整个世界。\n",
       "2     阿甘正传  1072395  9.4        一部美国近现代史。"
      ]
     },
     "execution_count": 13,
     "metadata": {},
     "output_type": "execute_result"
    }
   ],
   "source": [
    "mydata[:5]"
   ]
  },
  {
   "cell_type": "code",
   "execution_count": 14,
   "metadata": {},
   "outputs": [
    {
     "data": {
      "text/plain": [
       "[<matplotlib.lines.Line2D at 0x115d2b128>]"
      ]
     },
     "execution_count": 14,
     "metadata": {},
     "output_type": "execute_result"
    },
    {
     "data": {
      "image/png": "[encoded data removed]",
      "text/plain": [
       "<Figure size 432x288 with 1 Axes>"
      ]
     },
     "metadata": {
      "needs_background": "light"
     },
     "output_type": "display_data"
    }
   ],
   "source": [
    "import matplotlib.pyplot as plt\n",
    "%matplotlib inline\n",
    "plt.plot(mydata['评分'][:10])\n"
   ]
  },
  {
   "cell_type": "code",
   "execution_count": 15,
   "metadata": {},
   "outputs": [
    {
     "data": {
      "text/plain": [
       "1244984"
      ]
     },
     "execution_count": 15,
     "metadata": {},
     "output_type": "execute_result"
    }
   ],
   "source": [
    "data['数量'].max()"
   ]
  },
  {
   "cell_type": "code",
   "execution_count": 16,
   "metadata": {},
   "outputs": [
    {
     "data": {
      "text/plain": [
       "59351"
      ]
     },
     "execution_count": 16,
     "metadata": {},
     "output_type": "execute_result"
    }
   ],
   "source": [
    "data['数量'].min()"
   ]
  },
  {
   "cell_type": "code",
   "execution_count": 17,
   "metadata": {},
   "outputs": [
    {
     "data": {
      "text/plain": [
       "351006.7309236948"
      ]
     },
     "execution_count": 17,
     "metadata": {},
     "output_type": "execute_result"
    }
   ],
   "source": [
    "data['数量'].mean()"
   ]
  },
  {
   "cell_type": "code",
   "execution_count": 18,
   "metadata": {},
   "outputs": [
    {
     "data": {
      "text/plain": [
       "212599.02596265593"
      ]
     },
     "execution_count": 18,
     "metadata": {},
     "output_type": "execute_result"
    }
   ],
   "source": [
    "data['数量'].std()"
   ]
  },
  {
   "cell_type": "code",
   "execution_count": 19,
   "metadata": {},
   "outputs": [
    {
     "data": {
      "text/plain": [
       "87400676"
      ]
     },
     "execution_count": 19,
     "metadata": {},
     "output_type": "execute_result"
    }
   ],
   "source": [
    "data['数量'].sum()"
   ]
  },
  {
   "cell_type": "code",
   "execution_count": 21,
   "metadata": {},
   "outputs": [
    {
     "name": "stdout",
     "output_type": "stream",
     "text": [
      "<class 'pandas.core.frame.DataFrame'>\n"
     ]
    },
    {
     "data": {
      "text/plain": [
       "名称         龙猫\n",
       "数量    1244984\n",
       "评分        9.6\n",
       "短评      黑暗之美。\n",
       "dtype: object"
      ]
     },
     "execution_count": 21,
     "metadata": {},
     "output_type": "execute_result"
    }
   ],
   "source": [
    "print(type(data))\n",
    "data.max()"
   ]
  },
  {
   "cell_type": "code",
   "execution_count": 22,
   "metadata": {},
   "outputs": [
    {
     "data": {
      "text/plain": [
       "名称     2001太空漫游\n",
       "数量        59351\n",
       "评分          8.3\n",
       "短评    10年的完美句点。\n",
       "dtype: object"
      ]
     },
     "execution_count": 22,
     "metadata": {},
     "output_type": "execute_result"
    }
   ],
   "source": [
    "data.min()"
   ]
  },
  {
   "cell_type": "code",
   "execution_count": 23,
   "metadata": {},
   "outputs": [
    {
     "data": {
      "text/html": [
       "<div>\n",
       "<style scoped>\n",
       "    .dataframe tbody tr th:only-of-type {\n",
       "        vertical-align: middle;\n",
       "    }\n",
       "\n",
       "    .dataframe tbody tr th {\n",
       "        vertical-align: top;\n",
       "    }\n",
       "\n",
       "    .dataframe thead th {\n",
       "        text-align: right;\n",
       "    }\n",
       "</style>\n",
       "<table border=\"1\" class=\"dataframe\">\n",
       "  <thead>\n",
       "    <tr style=\"text-align: right;\">\n",
       "      <th></th>\n",
       "      <th>数量</th>\n",
       "      <th>评分</th>\n",
       "    </tr>\n",
       "  </thead>\n",
       "  <tbody>\n",
       "    <tr>\n",
       "      <th>count</th>\n",
       "      <td>2.490000e+02</td>\n",
       "      <td>249.000000</td>\n",
       "    </tr>\n",
       "    <tr>\n",
       "      <th>mean</th>\n",
       "      <td>3.510067e+05</td>\n",
       "      <td>8.826908</td>\n",
       "    </tr>\n",
       "    <tr>\n",
       "      <th>std</th>\n",
       "      <td>2.125990e+05</td>\n",
       "      <td>0.265106</td>\n",
       "    </tr>\n",
       "    <tr>\n",
       "      <th>min</th>\n",
       "      <td>5.935100e+04</td>\n",
       "      <td>8.300000</td>\n",
       "    </tr>\n",
       "    <tr>\n",
       "      <th>25%</th>\n",
       "      <td>1.966710e+05</td>\n",
       "      <td>8.600000</td>\n",
       "    </tr>\n",
       "    <tr>\n",
       "      <th>50%</th>\n",
       "      <td>3.031070e+05</td>\n",
       "      <td>8.800000</td>\n",
       "    </tr>\n",
       "    <tr>\n",
       "      <th>75%</th>\n",
       "      <td>4.491280e+05</td>\n",
       "      <td>9.000000</td>\n",
       "    </tr>\n",
       "    <tr>\n",
       "      <th>max</th>\n",
       "      <td>1.244984e+06</td>\n",
       "      <td>9.600000</td>\n",
       "    </tr>\n",
       "  </tbody>\n",
       "</table>\n",
       "</div>"
      ],
      "text/plain": [
       "                 数量          评分\n",
       "count  2.490000e+02  249.000000\n",
       "mean   3.510067e+05    8.826908\n",
       "std    2.125990e+05    0.265106\n",
       "min    5.935100e+04    8.300000\n",
       "25%    1.966710e+05    8.600000\n",
       "50%    3.031070e+05    8.800000\n",
       "75%    4.491280e+05    9.000000\n",
       "max    1.244984e+06    9.600000"
      ]
     },
     "execution_count": 23,
     "metadata": {},
     "output_type": "execute_result"
    }
   ],
   "source": [
    "data.describe()"
   ]
  },
  {
   "cell_type": "code",
   "execution_count": 25,
   "metadata": {},
   "outputs": [
    {
     "name": "stdout",
     "output_type": "stream",
     "text": [
      "[[0.25608807 0.21689682 0.36463537 0.35782736 0.35190405]\n",
      " [0.60006127 0.16666544 0.29366471 0.90570631 0.36114447]\n",
      " [0.46882184 0.93743283 0.07827102 0.59523652 0.38947416]\n",
      " [0.62337896 0.11077444 0.82570377 0.76144463 0.51330522]\n",
      " [0.77549975 0.64106883 0.14225266 0.54284022 0.39303286]\n",
      " [0.945729   0.44991117 0.848358   0.64379634 0.8624139 ]\n",
      " [0.57513534 0.61219992 0.86523509 0.85641334 0.93746965]\n",
      " [0.90681764 0.68934505 0.37162164 0.44166682 0.7283631 ]\n",
      " [0.72752302 0.24453443 0.38672217 0.65127063 0.61729793]\n",
      " [0.828313   0.03322424 0.11449463 0.51593873 0.11503127]]\n"
     ]
    },
    {
     "data": {
      "text/plain": [
       "[<matplotlib.lines.Line2D at 0x115eae2e8>,\n",
       " <matplotlib.lines.Line2D at 0x115eae438>,\n",
       " <matplotlib.lines.Line2D at 0x115eae588>,\n",
       " <matplotlib.lines.Line2D at 0x115eae6d8>,\n",
       " <matplotlib.lines.Line2D at 0x115eae828>]"
      ]
     },
     "execution_count": 25,
     "metadata": {},
     "output_type": "execute_result"
    },
    {
     "data": {
      "image/png": "[encoded data removed]",
      "text/plain": [
       "<Figure size 432x288 with 1 Axes>"
      ]
     },
     "metadata": {
      "needs_background": "light"
     },
     "output_type": "display_data"
    }
   ],
   "source": [
    "import numpy as np\n",
    "import matplotlib.pyplot as plt\n",
    "print(np.random.rand(10,5))\n",
    "df = pd.DataFrame(np.random.rand(10, 5), columns=['A', 'B', 'C', 'D', 'E'])\n",
    "plt.plot(df)"
   ]
  },
  {
   "cell_type": "code",
   "execution_count": 31,
   "metadata": {},
   "outputs": [
    {
     "data": {
      "text/plain": [
       "[<matplotlib.lines.Line2D at 0x11f1f5d30>]"
      ]
     },
     "execution_count": 31,
     "metadata": {},
     "output_type": "execute_result"
    },
    {
     "data": {
      "image/png": "[encoded data removed]",
      "text/plain": [
       "<Figure size 432x288 with 1 Axes>"
      ]
     },
     "metadata": {
      "needs_background": "light"
     },
     "output_type": "display_data"
    }
   ],
   "source": [
    "plt.plot(data['评分'][:20])"
   ]
  },
  {
   "cell_type": "code",
   "execution_count": null,
   "metadata": {},
   "outputs": [],
   "source": []
  }
 ],
 "metadata": {
  "kernelspec": {
   "display_name": "Python 3",
   "language": "python",
   "name": "python3"
  },
  "language_info": {
   "codemirror_mode": {
    "name": "ipython",
    "version": 3
   },
   "file_extension": ".py",
   "mimetype": "text/x-python",
   "name": "python",
   "nbconvert_exporter": "python",
   "pygments_lexer": "ipython3",
   "version": "3.7.1"
  }
 },
 "nbformat": 4,
 "nbformat_minor": 2
}
